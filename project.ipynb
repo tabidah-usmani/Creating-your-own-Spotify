{
 "cells": [
  {
   "cell_type": "code",
   "execution_count": 1,
   "id": "df179a5c",
   "metadata": {},
   "outputs": [],
   "source": [
    "import os\n",
    "\n",
    "def read_mp3_file(file_path):\n",
    "    with open(file_path, 'rb') as file:\n",
    "        # Read the binary content of the MP3 file\n",
    "        mp3_data = file.read()\n",
    "        # Implement your MP3 decoding algorithm here\n",
    "        # This could involve parsing the MP3 file format, decoding frames, etc.\n",
    "    return mp3_data\n",
    "\n",
    "def load_audio_files(folder_path):\n",
    "    audio_data = []\n",
    "    for filename in os.listdir(folder_path):\n",
    "        if filename.endswith(\".mp3\"):\n",
    "            file_path = os.path.join(folder_path, filename)\n",
    "            audio_data.append(read_mp3_file(file_path))\n",
    "    return audio_data\n",
    "\n",
    "def main():\n",
    "    audio_folder = \"sample_audio\"\n",
    "    audio_files = load_audio_files(audio_folder)\n",
    "    print(f\"Number of audio files loaded: {len(audio_files)}\")\n",
    "\n",
    "if __name__ == \"__main__\":\n",
    "    main()\n"
   ]
  },
  {
   "cell_type": "code",
   "execution_count": null,
   "id": "6e553e98",
   "metadata": {},
   "outputs": [],
   "source": []
  }
 ],
 "metadata": {
  "kernelspec": {
   "display_name": "Python 3 (ipykernel)",
   "language": "python",
   "name": "python3"
  },
  "language_info": {
   "codemirror_mode": {
    "name": "ipython",
    "version": 3
   },
   "file_extension": ".py",
   "mimetype": "text/x-python",
   "name": "python",
   "nbconvert_exporter": "python",
   "pygments_lexer": "ipython3",
   "version": "3.11.4"
  }
 },
 "nbformat": 4,
 "nbformat_minor": 5
}
